{
 "cells": [
  {
   "cell_type": "markdown",
   "metadata": {
    "ExecuteTime": {
     "end_time": "2020-07-03T18:41:04.790594Z",
     "start_time": "2020-07-03T18:41:04.778608Z"
    }
   },
   "source": [
    "# The Battle of Neighborhoods"
   ]
  },
  {
   "cell_type": "markdown",
   "metadata": {},
   "source": [
    "# Introduction:\n",
    "The purpose of this Project is to help people in exploring better aminities around their neighborhood. It will help them making smart and efficient decision on selecting a great neighborhood from a pool of choices of the neighborhoods in Scarborough, Toranto.\n",
    "\n",
    "Due to Canada immigration friendly policy, tons of people are migrating to various states of Canada and needs a platform for the good housing prices, reputated schools for their children, ease of the access to the Cafe, School, Super market, medical shops, grocery shops, malls, theatre, hospital, parks, Gyms, playground and like minded people, etc.\n",
    "\n",
    "Aim of the Project is to create an analysis of features for the people migrating to Scarborough to search a best neighborhood as a comparative analysis between neighborhoods. The features include median housing price and better school according to ratings, crime rates of that particular area, road connectivity, weather conditions, good management for emergency, water resources both freash and waste water and recreational facilities.\n",
    "\n",
    "It will help people to get more information about the area and neighborhood before moving to a new city, state, country or place for their work or to start a new fresh life.\n"
   ]
  },
  {
   "cell_type": "markdown",
   "metadata": {},
   "source": [
    "# Problem Which Tried to Solve:\n",
    "\n",
    "The main purpose of this project, is to suggest a better neighborhood in a new city for the person who are shiffting there which includes reputated schools for their children, ease of the access to the Cafe, School, Super market, medical shops, grocery shops, malls, theatre, hospital, parks, Gyms, playground and like minded people, connectivity to the airport, bus stand, city center, and other daily needs things nearby.\n",
    "\n",
    "1. Sorted list of house in terms of housing prices in a ascending or descending order\n",
    "2. Sorted list of schools in terms of location, fees, rating and reviews\n"
   ]
  },
  {
   "cell_type": "markdown",
   "metadata": {},
   "source": [
    "# The Location:\n",
    "\n",
    "Scarborough is an administrative division of Toronto, Ontario, Canada. Situated atop the Scarborough Bluffs, it occupies the eastern part of the city.\n",
    "Scarborough has stunning scenery, glorious beaches, loads to see and do – is it any wonder that people have been flocking to Scarborough for nearly 400 years now?\n",
    "And due to this and many other factors, Scarborough is a popular destination for new immigrants in Canada to reside. \n",
    "As a result, it is one of the most diverse and multicultural areas in the Greater Toronto Area, \n",
    "being home to various religious groups and places of worship. \n",
    "Although immigration has become a hot topic over the past few years with more governments seeking more restrictions on immigrants and refugees, the general trend of immigration into Canada has been one of on the rise."
   ]
  },
  {
   "cell_type": "markdown",
   "metadata": {},
   "source": [
    "# Foursquare API:\n",
    "\n",
    "This project \"The Battle of Neighborhoods\" would use Four-square API as its prime data gathering source as it has a database of millions of places, especially their places API which provides the ability to perform location search, location sharing and details about a business by using the latitudes and longitudes among other things."
   ]
  },
  {
   "cell_type": "code",
   "execution_count": null,
   "metadata": {},
   "outputs": [],
   "source": []
  }
 ],
 "metadata": {
  "kernelspec": {
   "display_name": "Python 3",
   "language": "python",
   "name": "python3"
  },
  "language_info": {
   "codemirror_mode": {
    "name": "ipython",
    "version": 3
   },
   "file_extension": ".py",
   "mimetype": "text/x-python",
   "name": "python",
   "nbconvert_exporter": "python",
   "pygments_lexer": "ipython3",
   "version": "3.7.7"
  },
  "toc": {
   "base_numbering": 1,
   "nav_menu": {},
   "number_sections": true,
   "sideBar": true,
   "skip_h1_title": false,
   "title_cell": "Table of Contents",
   "title_sidebar": "Contents",
   "toc_cell": false,
   "toc_position": {},
   "toc_section_display": true,
   "toc_window_display": false
  }
 },
 "nbformat": 4,
 "nbformat_minor": 4
}
