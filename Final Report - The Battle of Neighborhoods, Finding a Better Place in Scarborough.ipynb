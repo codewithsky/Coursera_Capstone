{
 "cells": [
  {
   "cell_type": "markdown",
   "metadata": {},
   "source": [
    "## Final Report - The Battle of Neighborhoods, Finding a Better Place in Scarborough, Toronto"
   ]
  },
  {
   "cell_type": "markdown",
   "metadata": {},
   "source": [
    "## 1. Introduction:\n",
    "    \n",
    "The purpose of this Project is to help people in exploring better aminities around their neighborhood. It will help them making smart and efficient decision on selecting a great neighborhood from a pool of choices of the neighborhoods in Scarborough, Toranto.\n",
    "\n",
    "Due to Canada immigration friendly policy, tons of people are migrating to various states of Canada and needs a platform for the good housing prices, reputated schools for their children, ease of the access to the Cafe, School, Super market, medical shops, grocery shops, malls, theatre, hospital, parks, Gyms, playground and like minded people, etc.\n",
    "\n",
    "Aim of the Project is to create an analysis of features for the people migrating to Scarborough to search a best neighborhood as a comparative analysis between neighborhoods. The features include median housing price and better school according to ratings, crime rates of that particular area, road connectivity, weather conditions, good management for emergency, water resources both freash and waste water and recreational facilities.\n",
    "\n",
    "It will help people to get more information about the area and neighborhood before moving to a new city, state, country or place for their work or to start a new fresh life."
   ]
  },
  {
   "cell_type": "markdown",
   "metadata": {},
   "source": [
    "## 2. About the Data:\n",
    "\n",
    "Data Link: https://en.wikipedia.org/wiki/List_of_postal_codes_of_Canada:_M, in order to obtain the data that is in the table of postal codes and to transform the data into a pandas dataframe.\n",
    "\n",
    "Will use Scarborough dataset which we scrapped from wikipedia. Dataset consists Postal Code, Neighborhood, Latitude, and  Longitude."
   ]
  },
  {
   "cell_type": "markdown",
   "metadata": {},
   "source": [
    "### Foursquare API Data:\n",
    "\n",
    "Data needed about different venues in the neighborhoods of that specific borough. To get the information, \"Foursquare\" API will be used.\n",
    "Foursquare is a location data provider with information about all manner of venues and events within an area of interest. Such information includes venue names, locations, menus and even photos. As such, the foursquare location platform will be used as the sole data source since all the stated required information can be obtained through the API. API provides personalized recommendations of places to go near a user's current location.\n",
    "\n",
    "After finding the list of neighborhoods, we then connect to the Foursquare API to gather information about venues inside each and every neighborhood. For each neighborhood, we have chosen the radius to be 100 meter due to API restrictions on the regular account.\n",
    "\n",
    "The data retrieved from Foursquare contained information of venues within a specified distance of the longitude and latitude of the postcodes. The information obtained per venue as follows:\n",
    "\n",
    "1. Neighborhood\n",
    "2. Neighborhood Latitude\n",
    "3. Neighborhood Longitude\n",
    "4. Venue\n",
    "5. Name of the venue e.g. the name of a store or restaurant\n",
    "6. Venue Latitude\n",
    "7. Venue Longitude\n",
    "8. Venue Category"
   ]
  },
  {
   "cell_type": "markdown",
   "metadata": {},
   "source": [
    "### Map of Scarborough:\n",
    "\n",
    "    Put PNG Image fof the map"
   ]
  },
  {
   "cell_type": "markdown",
   "metadata": {},
   "source": [
    "## 3. Methodologies:\n",
    "\n",
    "#### Clustering Approach:\n",
    "\n",
    "To compare the similarities between two cities, explored the neighborhoods, segment them, and group them into clusters to find similar neighborhoods in a big city like Toronto. \n",
    "To be able to do that, we need to cluster data which is a form of unsupervised machine learning: k-means clustering algorithm.\n",
    "\n",
    "### K-Means Clustering Approach\n",
    "\n",
    "Using%20K-Means%20Clustering%20Approach%20-%2010th%20Most%20Common%20Venue.png\n",
    "\n",
    "### Most Common Venues near Neighborhood\n",
    "\n",
    "Most%20Common%20venues%20near%20neighborhood.png\n",
    "\n",
    "### Work Flow:\n",
    "\n",
    "Using credentials of Foursquare API features of near-by places of the neighborhoods would be mined. \n",
    "Due to http request limitations the number of places per neighborhood parameter would reasonably be set to 100 and the radius parameter would be set to 500."
   ]
  },
  {
   "cell_type": "markdown",
   "metadata": {},
   "source": [
    "## 4. Results:\n",
    "\n",
    "### Map of Clusters in Scarborough:\n",
    "\n",
    "Map%20of%20Clusters%20Scarborough.png\n",
    "\n",
    "### Average Housing Price by Clusters in Scarborough\n",
    "\n",
    "Average%20Housing%20Price.png\n",
    "\n",
    "### School Ratings by Clusters in Scarborough\n",
    "\n",
    "School%20Ratings%20by%20Clusters.png\n",
    "\n",
    "### The Location:\n",
    "Scarborough is an administrative division of Toronto, Ontario, Canada. Situated atop the Scarborough Bluffs, it occupies the eastern part of the city. Scarborough has stunning scenery, glorious beaches, loads to see and do – is it any wonder that people have been flocking to Scarborough for nearly 400 years now? And due to this and many other factors, Scarborough is a popular destination for new immigrants in Canada to reside. As a result, it is one of the most diverse and multicultural areas in the Greater Toronto Area, being home to various religious groups and places of worship. Although immigration has become a hot topic over the past few years with more governments seeking more restrictions on immigrants and refugees, the general trend of immigration into Canada has been one of on the rise.\n",
    "\n",
    "### Foursquare API:\n",
    "\n",
    "This project \"The Battle of Neighborhoods\" would use Four-square API as its prime data gathering source as it has a database of millions of places, especially their places API which provides the ability to perform location search, location sharing and details about a business by using the latitudes and longitudes among other things."
   ]
  },
  {
   "cell_type": "markdown",
   "metadata": {},
   "source": [
    "## 5. Conclusion:\n",
    "\n",
    "In this project, using k-means cluster algorithm I separated the neighborhood into 10(Ten) different clusters and for 103 different lattitude and logitude from dataset, which have very-similar neighborhoods around them. Using the charts above results presented to a particular neighborhood based on average house prices and school rating have been made.\n",
    "\n",
    "### Future Works:\n",
    "\n",
    "Even if you're within easy driving distance of the area you'll be moving to, you'll want to begin with some thorough online research. This project can be continued for making it more precise in terms of :\n",
    "\n",
    "1. Evaluation of Other Cost of Living Factors\n",
    "2. Seek Areas With Multiple Transit Options\n",
    "3. Look Up Local Property Tax Rates\n",
    "4. Narrow Your Choice of Housing Stock\n",
    "5. Public Transportation\n",
    "6. Future Development\n",
    "\n",
    "### Libraries Used to Develope the Project:\n",
    "\n",
    "numpy: For large, multi-dimensional arrays and matrices, along with a large collection of high-level mathematical functions to operate on these arrays.\n",
    "\n",
    "Pandas: For creating and manipulating dataframes.\n",
    "\n",
    "Matplotlib: For creating static, animated, and interactive visualizations in Pyhton.\n",
    "\n",
    "sklearn Learn: For importing KMeans clusters module.\n",
    "\n",
    "Beautiful Soup and Requests: To scrap and library to handle http requests.\n",
    "\n",
    "requests: To get the data present at an url into desired format.\n",
    "\n",
    "JSON: Library to handle JSON files.\n",
    "\n",
    "Geocoder: To retrieve the location Data attributes like Latitude and Longitude.\n",
    "\n",
    "Folium: To visualize the neighborhoods cluster distribution of using interactive leaflet map in Python.\n",
    "\n",
    "XML: To separate data from presentation and XML stores data in plain text format."
   ]
  },
  {
   "cell_type": "code",
   "execution_count": null,
   "metadata": {},
   "outputs": [],
   "source": []
  }
 ],
 "metadata": {
  "kernelspec": {
   "display_name": "Python 3",
   "language": "python",
   "name": "python3"
  },
  "language_info": {
   "codemirror_mode": {
    "name": "ipython",
    "version": 3
   },
   "file_extension": ".py",
   "mimetype": "text/x-python",
   "name": "python",
   "nbconvert_exporter": "python",
   "pygments_lexer": "ipython3",
   "version": "3.7.7"
  }
 },
 "nbformat": 4,
 "nbformat_minor": 4
}
